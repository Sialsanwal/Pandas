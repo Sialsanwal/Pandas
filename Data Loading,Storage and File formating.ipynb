{
 "cells": [
  {
   "cell_type": "code",
   "execution_count": 29,
   "metadata": {},
   "outputs": [
    {
     "name": "stdout",
     "output_type": "stream",
     "text": [
      "  studentID         name  chemistry  physics  english  math\n",
      "0       A01  Sanwal Khan         30       50       60    70\n",
      "1       A02         Amar         40       20       70    30\n",
      "2       A03  Shoukat Ali         50       60       50    20\n",
      "3       A04        Hamza         70       80       30    40\n",
      "============================================================\n",
      "          id         name        che      phy      eng   mat\n",
      "0  studentID         name  chemistry  physics  english  math\n",
      "1        A01  Sanwal Khan         30       50       60    70\n",
      "2        A02         Amar         40       20       70    30\n",
      "3        A03  Shoukat Ali         50       60       50    20\n",
      "4        A04        Hamza         70       80       30    40\n",
      "============================================================\n",
      "    id         name  che  phy  eng  mat\n",
      "0  A01  Sanwal Khan   30   50   60   70\n",
      "1  A02         Amar   40   20   70   30\n",
      "2  A03  Shoukat Ali   50   60   50   20\n",
      "3  A04        Hamza   70   80   30   40\n"
     ]
    }
   ],
   "source": [
    "import pandas as pd\n",
    "sample_df=pd.read_csv(\"Example/Sample.csv\")\n",
    "print(sample_df)\n",
    "print(\"============================================================\")\n",
    "# We can change the colums name while laoding data\n",
    "sample_df=pd.read_csv(\"Example/Sample.csv\", \n",
    "                      names=['id','name','che','phy','eng','mat'])\n",
    "print(sample_df)\n",
    "print(\"============================================================\")\n",
    "#now we can skip the rows 1\n",
    "sample_df=pd.read_csv(\"Example/Sample.csv\",skiprows=1, \n",
    "                      names=['id','name','che','phy','eng','mat'])\n",
    "print(sample_df)\n"
   ]
  },
  {
   "cell_type": "markdown",
   "metadata": {},
   "source": [
    "# Hierarchal Index"
   ]
  },
  {
   "cell_type": "code",
   "execution_count": 33,
   "metadata": {},
   "outputs": [
    {
     "name": "stdout",
     "output_type": "stream",
     "text": [
      "  key1 key2  value1  value2\n",
      "0  one    a       1       2\n",
      "1  one    b       3       4\n",
      "2  one    c       5       6\n",
      "3  one    d       7       8\n",
      "4  two    a       9      10\n",
      "5  two    b      11      12\n",
      "6  two    c      13      14\n",
      "7  two    d      15      16\n",
      "====================================\n",
      "           value1  value2\n",
      "key1 key2                \n",
      "one  a          1       2\n",
      "     b          3       4\n",
      "     c          5       6\n",
      "     d          7       8\n",
      "two  a          9      10\n",
      "     b         11      12\n",
      "     c         13      14\n",
      "     d         15      16\n"
     ]
    }
   ],
   "source": [
    "s2_df=pd.read_csv(\"Example/sample2.csv\")\n",
    "print(s2_df)\n",
    "print(\"====================================\")\n",
    "s2_df=pd.read_csv(\"Example/sample2.csv\", index_col=[\"key1\",\"key2\"])\n",
    "print(s2_df)"
   ]
  },
  {
   "cell_type": "code",
   "execution_count": null,
   "metadata": {},
   "outputs": [],
   "source": []
  }
 ],
 "metadata": {
  "kernelspec": {
   "display_name": "Python 3",
   "language": "python",
   "name": "python3"
  },
  "language_info": {
   "codemirror_mode": {
    "name": "ipython",
    "version": 3
   },
   "file_extension": ".py",
   "mimetype": "text/x-python",
   "name": "python",
   "nbconvert_exporter": "python",
   "pygments_lexer": "ipython3",
   "version": "3.8.5"
  }
 },
 "nbformat": 4,
 "nbformat_minor": 4
}
